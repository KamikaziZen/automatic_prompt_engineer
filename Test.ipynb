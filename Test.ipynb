{
 "cells": [
  {
   "cell_type": "code",
   "execution_count": 1,
   "id": "91b9cd77-36f8-4ac1-8a24-75f66c867fc0",
   "metadata": {},
   "outputs": [
    {
     "data": {
      "text/plain": [
       "True"
      ]
     },
     "execution_count": 1,
     "metadata": {},
     "output_type": "execute_result"
    }
   ],
   "source": [
    "import os\n",
    "import dotenv\n",
    "import httpx\n",
    "import time\n",
    "import requests\n",
    "from httpx_socks import SyncProxyTransport\n",
    "from tqdm import tqdm\n",
    "\n",
    "import openai\n",
    "from automatic_prompt_engineer import generate, evaluate, config, template, data, llm, ape\n",
    "\n",
    "dotenv.load_dotenv(\".env\")"
   ]
  },
  {
   "cell_type": "code",
   "execution_count": 2,
   "id": "18a6b5cb-9eb0-4596-a323-9d4a3a5d538d",
   "metadata": {},
   "outputs": [],
   "source": [
    "transport = SyncProxyTransport.from_url(f'socks5://{os.environ[\"PROXY_USER\"]}:{os.environ['PROXY_PASS']}@{os.environ['PROXY']}:{os.environ['PROXY_PORT']}')\n",
    "http_client = httpx.Client(transport=transport)\n",
    "\n",
    "client = openai.OpenAI(\n",
    "    http_client=http_client,\n",
    "    api_key=os.environ['OPENAI_API_KEY'],\n",
    ")"
   ]
  },
  {
   "cell_type": "code",
   "execution_count": 3,
   "id": "6cd99833-db61-42f3-92b8-8d9764d05a1d",
   "metadata": {},
   "outputs": [],
   "source": [
    "words = [\"sane\", \"direct\", \"informally\", \"unpopular\", \"subtractive\", \"nonresidential\",\n",
    "    \"inexact\", \"uptown\", \"incomparable\", \"powerful\", \"gaseous\", \"evenly\", \"formality\",\n",
    "    \"deliberately\", \"off\"]\n",
    "antonyms = [\"insane\", \"indirect\", \"formally\", \"popular\", \"additive\", \"residential\",\n",
    "    \"exact\", \"downtown\", \"comparable\", \"powerless\", \"solid\", \"unevenly\", \"informality\",\n",
    "    \"accidentally\", \"on\"]"
   ]
  },
  {
   "cell_type": "code",
   "execution_count": 4,
   "id": "2292dacb-49ea-4a92-a8a5-f972aa95e16f",
   "metadata": {},
   "outputs": [],
   "source": [
    "eval_template = \\\n",
    "\"\"\"Instruction: [PROMPT]\n",
    "Input: [INPUT]\n",
    "Output: [OUTPUT]\"\"\"\n",
    "\n",
    "demos_template='Input: [INPUT]\\nOutput: [OUTPUT]'\n",
    "\n",
    "prompt_gen_mode = 'forward'\n",
    "prompt_gen_template = None\n",
    "\n",
    "config_path = 'configs/accuracy.yaml'\n",
    "few_shot_data = None\n",
    "prompt_gen_data = (words[:5], antonyms[:5])\n",
    "eval_dataset = dataset=(words[5:], antonyms[5:])"
   ]
  },
  {
   "cell_type": "code",
   "execution_count": 5,
   "id": "8c219cde-0da7-4b9c-b52c-0acde8e19f28",
   "metadata": {},
   "outputs": [
    {
     "data": {
      "text/plain": [
       "(['sane', 'direct', 'informally', 'unpopular', 'subtractive'],\n",
       " ['insane', 'indirect', 'formally', 'popular', 'additive'])"
      ]
     },
     "execution_count": 5,
     "metadata": {},
     "output_type": "execute_result"
    }
   ],
   "source": [
    "prompt_gen_data"
   ]
  },
  {
   "cell_type": "code",
   "execution_count": null,
   "id": "52fb1431-663f-4c6f-bd0c-40303089c932",
   "metadata": {},
   "outputs": [],
   "source": []
  },
  {
   "cell_type": "code",
   "execution_count": 6,
   "id": "fa3e8f7c-9b37-4b73-99f6-f830f40cfe4e",
   "metadata": {},
   "outputs": [],
   "source": [
    "prompt_gen_template = ape.get_simple_prompt_gen_template(\n",
    "    prompt_gen_template, prompt_gen_mode)\n",
    "# conf = config.simple_config(\n",
    "#     eval_model, prompt_gen_model, prompt_gen_mode, num_prompts, eval_rounds, prompt_gen_batch_size, eval_batch_size)\n",
    "# conf = config.update_config(conf, base_conf)\n",
    "conf = config.load_config(config_path)\n",
    "\n",
    "# Generate prompts\n",
    "eval_template = template.EvalTemplate(eval_template)\n",
    "demos_template = template.DemosTemplate(demos_template)\n",
    "if prompt_gen_template is None:\n",
    "    prompt_gen_template = eval_template.convert_to_generation_template()\n",
    "else:\n",
    "    prompt_gen_template = template.GenerationTemplate(prompt_gen_template)\n",
    "\n",
    "if few_shot_data is None:\n",
    "    few_shot_data = prompt_gen_data"
   ]
  },
  {
   "cell_type": "code",
   "execution_count": 7,
   "id": "48687f22-6f72-43cb-8283-9d0561dc2ff3",
   "metadata": {},
   "outputs": [
    {
     "data": {
      "text/plain": [
       "{'generation': {'num_subsamples': 5,\n",
       "  'num_demos': 5,\n",
       "  'num_prompts_per_subsample': 10,\n",
       "  'model': {'name': 'GPT_forward',\n",
       "   'batch_size': 500,\n",
       "   'gpt_config': {'model': 'gpt-3.5-turbo',\n",
       "    'temperature': 0.9,\n",
       "    'max_tokens': 50,\n",
       "    'top_p': 0.9,\n",
       "    'frequency_penalty': 0.0,\n",
       "    'presence_penalty': 0.0}}},\n",
       " 'evaluation': {'method': 'accuracy',\n",
       "  'num_samples': 10,\n",
       "  'num_few_shot': 5,\n",
       "  'model': {'name': 'GPT_forward',\n",
       "   'batch_size': 500,\n",
       "   'gpt_config': {'model': 'gpt-3.5-turbo',\n",
       "    'temperature': 0.7,\n",
       "    'max_tokens': 50,\n",
       "    'top_p': 1.0,\n",
       "    'frequency_penalty': 0.0,\n",
       "    'presence_penalty': 0.0}}},\n",
       " 'demo': {'model': {'name': 'GPT_forward',\n",
       "   'batch_size': 500,\n",
       "   'gpt_config': {'model': 'gpt-3.5-turbo',\n",
       "    'temperature': 0.7,\n",
       "    'max_tokens': 200,\n",
       "    'top_p': 1.0,\n",
       "    'frequency_penalty': 0.0,\n",
       "    'presence_penalty': 0.0}}}}"
      ]
     },
     "execution_count": 7,
     "metadata": {},
     "output_type": "execute_result"
    }
   ],
   "source": [
    "conf"
   ]
  },
  {
   "cell_type": "code",
   "execution_count": 8,
   "id": "c135e6e7-d6fc-467d-a5ad-635377a7dbc9",
   "metadata": {},
   "outputs": [
    {
     "name": "stdout",
     "output_type": "stream",
     "text": [
      "[GPT_forward] Generating 50 completions, split into 1 batches of size 5000\n"
     ]
    },
    {
     "name": "stderr",
     "output_type": "stream",
     "text": [
      "100%|██████████| 1/1 [00:02<00:00,  2.03s/it]"
     ]
    },
    {
     "name": "stdout",
     "output_type": "stream",
     "text": [
      "CPU times: user 116 ms, sys: 37.3 ms, total: 153 ms\n",
      "Wall time: 2.04 s\n"
     ]
    },
    {
     "name": "stderr",
     "output_type": "stream",
     "text": [
      "\n"
     ]
    },
    {
     "data": {
      "text/plain": [
       "['The instruction was to create antonyms or opposites for the given words.',\n",
       " 'The instruction was to change each word from a negative form to its corresponding positive form by adding a prefix or modifying the word in some way.',\n",
       " 'The instruction was to change each word from having a negative connotation to a positive connotation by adding a prefix or modifying the word.',\n",
       " 'The instruction was to generate antonyms for each given word.',\n",
       " 'The instruction was to change the given word from a negative or neutral form to a positive or intensified form by adding a prefix or modifying the word.',\n",
       " 'The instruction was to find the antonym of each given word.',\n",
       " 'The instruction was to find the opposite or antonym of the given input word.',\n",
       " 'convert the words to their opposite forms or antonyms.',\n",
       " 'The instruction was to find the opposite or antonym of the given word.',\n",
       " 'The instruction was to form the opposite or contrasting word from the given input.']"
      ]
     },
     "execution_count": 8,
     "metadata": {},
     "output_type": "execute_result"
    }
   ],
   "source": [
    "%%time\n",
    "prompts = generate.generate_prompts(\n",
    "    prompt_gen_template, demos_template, prompt_gen_data, conf['generation'], client)\n",
    "prompts"
   ]
  },
  {
   "cell_type": "code",
   "execution_count": 9,
   "id": "60862d2b-f680-4494-95a5-e18f4437c96f",
   "metadata": {},
   "outputs": [],
   "source": [
    "prompts = list(set(prompts))"
   ]
  },
  {
   "cell_type": "code",
   "execution_count": 10,
   "id": "4c5c0c7b-110d-4373-9241-05b882f15b0e",
   "metadata": {},
   "outputs": [
    {
     "name": "stdout",
     "output_type": "stream",
     "text": [
      "Eval method: accuracy\n"
     ]
    },
    {
     "name": "stderr",
     "output_type": "stream",
     "text": [
      "100it [01:03,  1.59it/s]"
     ]
    },
    {
     "name": "stdout",
     "output_type": "stream",
     "text": [
      "CPU times: user 4.11 s, sys: 43 ms, total: 4.15 s\n",
      "Wall time: 1min 3s\n"
     ]
    },
    {
     "name": "stderr",
     "output_type": "stream",
     "text": [
      "\n"
     ]
    }
   ],
   "source": [
    "%%time\n",
    "res = evaluate.evalute_prompts(prompts, eval_template, eval_dataset, demos_template, few_shot_data,\n",
    "                                   conf['evaluation']['method'], conf['evaluation'], client)"
   ]
  },
  {
   "cell_type": "code",
   "execution_count": 11,
   "id": "e16085e9-1f7a-4f71-bb49-7f8c02a1fe36",
   "metadata": {},
   "outputs": [
    {
     "name": "stdout",
     "output_type": "stream",
     "text": [
      "acc: prompt\n",
      "----------------\n",
      "1.00: convert the words to their opposite forms or antonyms.\n",
      "1.00: The instruction was to form the opposite or contrasting word from the given input.\n",
      "0.90: The instruction was to generate antonyms for each given word.\n",
      "0.90: The instruction was to find the opposite or antonym of the given word.\n",
      "0.90: The instruction was to find the opposite or antonym of the given input word.\n",
      "0.90: The instruction was to find the antonym of each given word.\n",
      "0.90: The instruction was to create antonyms or opposites for the given words.\n",
      "0.90: The instruction was to change each word from a negative form to its corresponding positive form by adding a prefix or modifying the word in some way.\n",
      "0.70: The instruction was to change each word from having a negative connotation to a positive connotation by adding a prefix or modifying the word.\n",
      "0.60: The instruction was to change the given word from a negative or neutral form to a positive or intensified form by adding a prefix or modifying the word.\n",
      "\n"
     ]
    }
   ],
   "source": [
    "print(res)"
   ]
  },
  {
   "cell_type": "code",
   "execution_count": null,
   "id": "a8408aa8-911d-4987-b0ca-17b9c2666e6e",
   "metadata": {},
   "outputs": [],
   "source": []
  },
  {
   "cell_type": "code",
   "execution_count": null,
   "id": "c44a91c0-5362-462f-9bd8-6b56d0db7352",
   "metadata": {},
   "outputs": [],
   "source": []
  }
 ],
 "metadata": {
  "kernelspec": {
   "display_name": "Python [conda env:.mlspace-kamikazi-ape]",
   "language": "python",
   "name": "conda-env-.mlspace-kamikazi-ape-py"
  },
  "language_info": {
   "codemirror_mode": {
    "name": "ipython",
    "version": 3
   },
   "file_extension": ".py",
   "mimetype": "text/x-python",
   "name": "python",
   "nbconvert_exporter": "python",
   "pygments_lexer": "ipython3",
   "version": "3.13.3"
  }
 },
 "nbformat": 4,
 "nbformat_minor": 5
}
